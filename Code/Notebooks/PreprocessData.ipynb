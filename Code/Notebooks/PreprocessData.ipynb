{
 "cells": [
  {
   "cell_type": "markdown",
   "metadata": {},
   "source": [
    "# Set Up"
   ]
  },
  {
   "cell_type": "code",
   "execution_count": null,
   "metadata": {},
   "outputs": [
    {
     "ename": "",
     "evalue": "",
     "output_type": "error",
     "traceback": [
      "\u001b[1;31mRunning cells with 'Python 3.9.21' requires the ipykernel package.\n",
      "\u001b[1;31mInstall 'ipykernel' into the Python environment. \n",
      "\u001b[1;31mCommand: '/usr/bin/python -m pip install ipykernel -U --user --force-reinstall'"
     ]
    }
   ],
   "source": [
    "### Packages ###\n",
    "import os\n",
    "import pickle\n",
    "import kagglehub\n",
    "import pandas as pd \n",
    "from pmlb import fetch_data\n",
    "\n",
    "### Append Path ###\n",
    "import sys\n",
    "sys.path.append('..')\n",
    "\n",
    "### Import functions ###\n",
    "from utils.Auxiliary.BurbridgeDGP import *\n",
    "from utils.Auxiliary.PreprocessData import *\n",
    "\n",
    "\n",
    "### Save Path ###\n",
    "save_path = '/Users/simondn/Documents/WeightedGreedySampling/Data/processed/'\n",
    "os.makedirs(save_path, exist_ok=True)"
   ]
  },
  {
   "cell_type": "markdown",
   "metadata": {},
   "source": [
    "---\n",
    "---"
   ]
  },
  {
   "cell_type": "code",
   "execution_count": 2,
   "metadata": {},
   "outputs": [
    {
     "name": "stdout",
     "output_type": "stream",
     "text": [
      "--- Starting Data Preprocessing\n",
      "Loading and processing all datasets...\n",
      "  > Processed: concrete_4\n",
      "  > Processed: concrete_cs\n",
      "  > Processed: concrete_flow\n",
      "  > Processed: concrete_slump\n",
      "  > Processed: yacht\n",
      "  > Processed: housing\n",
      "  > Processed: mpg\n",
      "  > Processed: wine_red\n",
      "  > Processed: wine_white\n",
      "  > Processed: qsar\n",
      "  > Processed: bodyfat\n",
      "  > Processed: beer\n",
      "  > Processed: cps_wage\n",
      "  > Processed: dgp_correct\n",
      "  > Processed: dgp_misspecified\n",
      "  > Processed: dgp_low_noise\n",
      "\n",
      "Saving all processed datasets...\n",
      "\n",
      "--- Data Preprocessing Complete ---\n"
     ]
    }
   ],
   "source": [
    "datasets_to_save = preprocess_and_save_all()"
   ]
  },
  {
   "cell_type": "code",
   "execution_count": 4,
   "metadata": {},
   "outputs": [],
   "source": [
    "# Issues: pm10, no2"
   ]
  },
  {
   "cell_type": "markdown",
   "metadata": {},
   "source": [
    "---\n",
    "---"
   ]
  }
 ],
 "metadata": {
  "kernelspec": {
   "display_name": "Python 3",
   "language": "python",
   "name": "python3"
  },
  "language_info": {
   "codemirror_mode": {
    "name": "ipython",
    "version": 3
   },
   "file_extension": ".py",
   "mimetype": "text/x-python",
   "name": "python",
   "nbconvert_exporter": "python",
   "pygments_lexer": "ipython3",
   "version": "3.9.21"
  }
 },
 "nbformat": 4,
 "nbformat_minor": 2
}
