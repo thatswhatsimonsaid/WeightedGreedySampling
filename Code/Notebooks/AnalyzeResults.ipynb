{
 "cells": [
  {
   "cell_type": "code",
   "execution_count": null,
   "metadata": {},
   "outputs": [],
   "source": [
    "### Import Packages ###\n",
    "import os\n",
    "import pickle\n",
    "import numpy as np\n",
    "import pandas as pd\n",
    "import matplotlib.pyplot as plt\n",
    "\n",
    "### Append Path ###\n",
    "import sys\n",
    "sys.path.append('..')\n",
    "\n",
    "### Import functions ###\n",
    "from utils.Auxiliary import *\n",
    "\n",
    "### Directory ###\n",
    "notebook_dir = os.getcwd()\n",
    "root_dir = os.path.join(notebook_dir, '..', '..')\n",
    "result_dir = os.path.join(root_dir, 'Results', 'simulation_results')\n",
    "image_dir = os.path.join(root_dir, 'Results', 'images')\n",
    "AGGREGATED_RESULTS_DIR = os.path.join(result_dir, 'aggegrate')\n",
    "AGGREGATED_RESULTS_DIR = '/Users/simondn/Documents/WeightedGreedySampling/Results/simulation_results/aggregated'\n",
    "IMAGE_DIRECTORY = image_dir\n",
    "generate_all_plots(aggregated_results_dir=AGGREGATED_RESULTS_DIR, image_dir=IMAGE_DIRECTORY)"
   ]
  }
 ],
 "metadata": {
  "kernelspec": {
   "display_name": "base",
   "language": "python",
   "name": "python3"
  },
  "language_info": {
   "codemirror_mode": {
    "name": "ipython",
    "version": 3
   },
   "file_extension": ".py",
   "mimetype": "text/x-python",
   "name": "python",
   "nbconvert_exporter": "python",
   "pygments_lexer": "ipython3",
   "version": "3.12.4"
  }
 },
 "nbformat": 4,
 "nbformat_minor": 4
}
